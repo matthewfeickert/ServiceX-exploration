{
 "nbformat": 4,
 "nbformat_minor": 0,
 "metadata": {
  "colab": {
   "name": "jet-cleaning-test.ipynb",
   "provenance": [],
   "collapsed_sections": []
  },
  "kernelspec": {
   "name": "python3",
   "display_name": "Python 3"
  },
  "widgets": {
   "application/vnd.jupyter.widget-state+json": {
    "9081053b77264cfba9d2dbb9043b9526": {
     "model_module": "@jupyter-widgets/controls",
     "model_name": "HBoxModel",
     "state": {
      "_view_name": "HBoxView",
      "_dom_classes": [],
      "_model_name": "HBoxModel",
      "_view_module": "@jupyter-widgets/controls",
      "_model_module_version": "1.5.0",
      "_view_count": null,
      "_view_module_version": "1.5.0",
      "box_style": "",
      "layout": "IPY_MODEL_c27b5faf518c4299b24a2746482ee3c1",
      "_model_module": "@jupyter-widgets/controls",
      "children": [
       "IPY_MODEL_a6a824b104834af980b76bf6f604e0aa",
       "IPY_MODEL_9de08a5831ca4e6f809e65a41e2da594"
      ]
     }
    },
    "c27b5faf518c4299b24a2746482ee3c1": {
     "model_module": "@jupyter-widgets/base",
     "model_name": "LayoutModel",
     "state": {
      "_view_name": "LayoutView",
      "grid_template_rows": null,
      "right": null,
      "justify_content": null,
      "_view_module": "@jupyter-widgets/base",
      "overflow": null,
      "_model_module_version": "1.2.0",
      "_view_count": null,
      "flex_flow": "row wrap",
      "width": "100%",
      "min_width": null,
      "border": null,
      "align_items": null,
      "bottom": null,
      "_model_module": "@jupyter-widgets/base",
      "top": null,
      "grid_column": null,
      "overflow_y": null,
      "overflow_x": null,
      "grid_auto_flow": null,
      "grid_area": null,
      "grid_template_columns": null,
      "flex": null,
      "_model_name": "LayoutModel",
      "justify_items": null,
      "grid_row": null,
      "max_height": null,
      "align_content": null,
      "visibility": null,
      "align_self": null,
      "height": null,
      "min_height": null,
      "padding": null,
      "grid_auto_rows": null,
      "grid_gap": null,
      "max_width": null,
      "order": null,
      "_view_module_version": "1.2.0",
      "grid_template_areas": null,
      "object_position": null,
      "object_fit": null,
      "grid_auto_columns": null,
      "margin": null,
      "display": "inline-flex",
      "left": null
     }
    },
    "a6a824b104834af980b76bf6f604e0aa": {
     "model_module": "@jupyter-widgets/controls",
     "model_name": "FloatProgressModel",
     "state": {
      "_view_name": "ProgressView",
      "style": "IPY_MODEL_d220dbce43f14e3ca319456fd14cfbe0",
      "_dom_classes": [],
      "description": "mc16_13TeV:mc16_13TeV.364700.Pythia8EvtGen_A14NNPDF23LO_jetjet_JZ0WithSW.deriv.DAOD_JETM1.e7142_s3126_r9364_p4128: 100%",
      "_model_name": "FloatProgressModel",
      "bar_style": "",
      "max": 291,
      "_view_module": "@jupyter-widgets/controls",
      "_model_module_version": "1.5.0",
      "value": 291,
      "_view_count": null,
      "_view_module_version": "1.5.0",
      "orientation": "horizontal",
      "min": 0,
      "description_tooltip": null,
      "_model_module": "@jupyter-widgets/controls",
      "layout": "IPY_MODEL_ab30158dae6d437bbcdb947549826ad0"
     }
    },
    "9de08a5831ca4e6f809e65a41e2da594": {
     "model_module": "@jupyter-widgets/controls",
     "model_name": "HTMLModel",
     "state": {
      "_view_name": "HTMLView",
      "style": "IPY_MODEL_25153dda964d4a128e4526952c18afb3",
      "_dom_classes": [],
      "description": "",
      "_model_name": "HTMLModel",
      "placeholder": "​",
      "_view_module": "@jupyter-widgets/controls",
      "_model_module_version": "1.5.0",
      "value": " 291/291 [02:13]",
      "_view_count": null,
      "_view_module_version": "1.5.0",
      "description_tooltip": null,
      "_model_module": "@jupyter-widgets/controls",
      "layout": "IPY_MODEL_007b90c2ec6f45aa93bb3743f8577f0d"
     }
    },
    "d220dbce43f14e3ca319456fd14cfbe0": {
     "model_module": "@jupyter-widgets/controls",
     "model_name": "ProgressStyleModel",
     "state": {
      "_view_name": "StyleView",
      "_model_name": "ProgressStyleModel",
      "description_width": "initial",
      "_view_module": "@jupyter-widgets/base",
      "_model_module_version": "1.5.0",
      "_view_count": null,
      "_view_module_version": "1.2.0",
      "bar_color": null,
      "_model_module": "@jupyter-widgets/controls"
     }
    },
    "ab30158dae6d437bbcdb947549826ad0": {
     "model_module": "@jupyter-widgets/base",
     "model_name": "LayoutModel",
     "state": {
      "_view_name": "LayoutView",
      "grid_template_rows": null,
      "right": null,
      "justify_content": null,
      "_view_module": "@jupyter-widgets/base",
      "overflow": null,
      "_model_module_version": "1.2.0",
      "_view_count": null,
      "flex_flow": null,
      "width": null,
      "min_width": null,
      "border": null,
      "align_items": null,
      "bottom": null,
      "_model_module": "@jupyter-widgets/base",
      "top": null,
      "grid_column": null,
      "overflow_y": null,
      "overflow_x": null,
      "grid_auto_flow": null,
      "grid_area": null,
      "grid_template_columns": null,
      "flex": "2",
      "_model_name": "LayoutModel",
      "justify_items": null,
      "grid_row": null,
      "max_height": null,
      "align_content": null,
      "visibility": null,
      "align_self": null,
      "height": null,
      "min_height": null,
      "padding": null,
      "grid_auto_rows": null,
      "grid_gap": null,
      "max_width": null,
      "order": null,
      "_view_module_version": "1.2.0",
      "grid_template_areas": null,
      "object_position": null,
      "object_fit": null,
      "grid_auto_columns": null,
      "margin": null,
      "display": null,
      "left": null
     }
    },
    "25153dda964d4a128e4526952c18afb3": {
     "model_module": "@jupyter-widgets/controls",
     "model_name": "DescriptionStyleModel",
     "state": {
      "_view_name": "StyleView",
      "_model_name": "DescriptionStyleModel",
      "description_width": "",
      "_view_module": "@jupyter-widgets/base",
      "_model_module_version": "1.5.0",
      "_view_count": null,
      "_view_module_version": "1.2.0",
      "_model_module": "@jupyter-widgets/controls"
     }
    },
    "007b90c2ec6f45aa93bb3743f8577f0d": {
     "model_module": "@jupyter-widgets/base",
     "model_name": "LayoutModel",
     "state": {
      "_view_name": "LayoutView",
      "grid_template_rows": null,
      "right": null,
      "justify_content": null,
      "_view_module": "@jupyter-widgets/base",
      "overflow": null,
      "_model_module_version": "1.2.0",
      "_view_count": null,
      "flex_flow": null,
      "width": null,
      "min_width": null,
      "border": null,
      "align_items": null,
      "bottom": null,
      "_model_module": "@jupyter-widgets/base",
      "top": null,
      "grid_column": null,
      "overflow_y": null,
      "overflow_x": null,
      "grid_auto_flow": null,
      "grid_area": null,
      "grid_template_columns": null,
      "flex": null,
      "_model_name": "LayoutModel",
      "justify_items": null,
      "grid_row": null,
      "max_height": null,
      "align_content": null,
      "visibility": null,
      "align_self": null,
      "height": null,
      "min_height": null,
      "padding": null,
      "grid_auto_rows": null,
      "grid_gap": null,
      "max_width": null,
      "order": null,
      "_view_module_version": "1.2.0",
      "grid_template_areas": null,
      "object_position": null,
      "object_fit": null,
      "grid_auto_columns": null,
      "margin": null,
      "display": null,
      "left": null
     }
    },
    "ed08a824f5dc4b009bde99f709fb396b": {
     "model_module": "@jupyter-widgets/controls",
     "model_name": "HBoxModel",
     "state": {
      "_view_name": "HBoxView",
      "_dom_classes": [],
      "_model_name": "HBoxModel",
      "_view_module": "@jupyter-widgets/controls",
      "_model_module_version": "1.5.0",
      "_view_count": null,
      "_view_module_version": "1.5.0",
      "box_style": "",
      "layout": "IPY_MODEL_9914a89954d44b95964b5bd7e61864e0",
      "_model_module": "@jupyter-widgets/controls",
      "children": [
       "IPY_MODEL_43cf5acc36ec4c33a0613bfa53e082e4",
       "IPY_MODEL_48aa5eb4807143b9b72821b42d6d7c14"
      ]
     }
    },
    "9914a89954d44b95964b5bd7e61864e0": {
     "model_module": "@jupyter-widgets/base",
     "model_name": "LayoutModel",
     "state": {
      "_view_name": "LayoutView",
      "grid_template_rows": null,
      "right": null,
      "justify_content": null,
      "_view_module": "@jupyter-widgets/base",
      "overflow": null,
      "_model_module_version": "1.2.0",
      "_view_count": null,
      "flex_flow": "row wrap",
      "width": "100%",
      "min_width": null,
      "border": null,
      "align_items": null,
      "bottom": null,
      "_model_module": "@jupyter-widgets/base",
      "top": null,
      "grid_column": null,
      "overflow_y": null,
      "overflow_x": null,
      "grid_auto_flow": null,
      "grid_area": null,
      "grid_template_columns": null,
      "flex": null,
      "_model_name": "LayoutModel",
      "justify_items": null,
      "grid_row": null,
      "max_height": null,
      "align_content": null,
      "visibility": null,
      "align_self": null,
      "height": null,
      "min_height": null,
      "padding": null,
      "grid_auto_rows": null,
      "grid_gap": null,
      "max_width": null,
      "order": null,
      "_view_module_version": "1.2.0",
      "grid_template_areas": null,
      "object_position": null,
      "object_fit": null,
      "grid_auto_columns": null,
      "margin": null,
      "display": "inline-flex",
      "left": null
     }
    },
    "43cf5acc36ec4c33a0613bfa53e082e4": {
     "model_module": "@jupyter-widgets/controls",
     "model_name": "FloatProgressModel",
     "state": {
      "_view_name": "ProgressView",
      "style": "IPY_MODEL_8833c04216024731a255036a0045eac3",
      "_dom_classes": [],
      "description": "        Downloaded: 100%",
      "_model_name": "FloatProgressModel",
      "bar_style": "",
      "max": 291,
      "_view_module": "@jupyter-widgets/controls",
      "_model_module_version": "1.5.0",
      "value": 291,
      "_view_count": null,
      "_view_module_version": "1.5.0",
      "orientation": "horizontal",
      "min": 0,
      "description_tooltip": null,
      "_model_module": "@jupyter-widgets/controls",
      "layout": "IPY_MODEL_ec3410e04fdd421dbf7ce96bdc25a9dc"
     }
    },
    "48aa5eb4807143b9b72821b42d6d7c14": {
     "model_module": "@jupyter-widgets/controls",
     "model_name": "HTMLModel",
     "state": {
      "_view_name": "HTMLView",
      "style": "IPY_MODEL_6894ecd57a7e47d8862ca2c144a52939",
      "_dom_classes": [],
      "description": "",
      "_model_name": "HTMLModel",
      "placeholder": "​",
      "_view_module": "@jupyter-widgets/controls",
      "_model_module_version": "1.5.0",
      "value": " 291/291 [02:13]",
      "_view_count": null,
      "_view_module_version": "1.5.0",
      "description_tooltip": null,
      "_model_module": "@jupyter-widgets/controls",
      "layout": "IPY_MODEL_3476ee24e7c44fd6adde5efe5c75935a"
     }
    },
    "8833c04216024731a255036a0045eac3": {
     "model_module": "@jupyter-widgets/controls",
     "model_name": "ProgressStyleModel",
     "state": {
      "_view_name": "StyleView",
      "_model_name": "ProgressStyleModel",
      "description_width": "initial",
      "_view_module": "@jupyter-widgets/base",
      "_model_module_version": "1.5.0",
      "_view_count": null,
      "_view_module_version": "1.2.0",
      "bar_color": null,
      "_model_module": "@jupyter-widgets/controls"
     }
    },
    "ec3410e04fdd421dbf7ce96bdc25a9dc": {
     "model_module": "@jupyter-widgets/base",
     "model_name": "LayoutModel",
     "state": {
      "_view_name": "LayoutView",
      "grid_template_rows": null,
      "right": null,
      "justify_content": null,
      "_view_module": "@jupyter-widgets/base",
      "overflow": null,
      "_model_module_version": "1.2.0",
      "_view_count": null,
      "flex_flow": null,
      "width": null,
      "min_width": null,
      "border": null,
      "align_items": null,
      "bottom": null,
      "_model_module": "@jupyter-widgets/base",
      "top": null,
      "grid_column": null,
      "overflow_y": null,
      "overflow_x": null,
      "grid_auto_flow": null,
      "grid_area": null,
      "grid_template_columns": null,
      "flex": "2",
      "_model_name": "LayoutModel",
      "justify_items": null,
      "grid_row": null,
      "max_height": null,
      "align_content": null,
      "visibility": null,
      "align_self": null,
      "height": null,
      "min_height": null,
      "padding": null,
      "grid_auto_rows": null,
      "grid_gap": null,
      "max_width": null,
      "order": null,
      "_view_module_version": "1.2.0",
      "grid_template_areas": null,
      "object_position": null,
      "object_fit": null,
      "grid_auto_columns": null,
      "margin": null,
      "display": null,
      "left": null
     }
    },
    "6894ecd57a7e47d8862ca2c144a52939": {
     "model_module": "@jupyter-widgets/controls",
     "model_name": "DescriptionStyleModel",
     "state": {
      "_view_name": "StyleView",
      "_model_name": "DescriptionStyleModel",
      "description_width": "",
      "_view_module": "@jupyter-widgets/base",
      "_model_module_version": "1.5.0",
      "_view_count": null,
      "_view_module_version": "1.2.0",
      "_model_module": "@jupyter-widgets/controls"
     }
    },
    "3476ee24e7c44fd6adde5efe5c75935a": {
     "model_module": "@jupyter-widgets/base",
     "model_name": "LayoutModel",
     "state": {
      "_view_name": "LayoutView",
      "grid_template_rows": null,
      "right": null,
      "justify_content": null,
      "_view_module": "@jupyter-widgets/base",
      "overflow": null,
      "_model_module_version": "1.2.0",
      "_view_count": null,
      "flex_flow": null,
      "width": null,
      "min_width": null,
      "border": null,
      "align_items": null,
      "bottom": null,
      "_model_module": "@jupyter-widgets/base",
      "top": null,
      "grid_column": null,
      "overflow_y": null,
      "overflow_x": null,
      "grid_auto_flow": null,
      "grid_area": null,
      "grid_template_columns": null,
      "flex": null,
      "_model_name": "LayoutModel",
      "justify_items": null,
      "grid_row": null,
      "max_height": null,
      "align_content": null,
      "visibility": null,
      "align_self": null,
      "height": null,
      "min_height": null,
      "padding": null,
      "grid_auto_rows": null,
      "grid_gap": null,
      "max_width": null,
      "order": null,
      "_view_module_version": "1.2.0",
      "grid_template_areas": null,
      "object_position": null,
      "object_fit": null,
      "grid_auto_columns": null,
      "margin": null,
      "display": null,
      "left": null
     }
    }
   }
  }
 },
 "cells": [
  {
   "cell_type": "code",
   "metadata": {
    "id": "aRAU8cvjPk2X",
    "outputId": "89c904a8-fb5c-4959-b15f-f016e2af52ce",
    "colab": {
     "base_uri": "https://localhost:8080/"
    }
   },
   "source": [
    "! pip install -qq func-adl-servicex~=1.0.2\n",
    "! pip install -qq --upgrade git+https://github.com/matthewfeickert/heputils.git"
   ],
   "execution_count": 1,
   "outputs": [
    {
     "output_type": "stream",
     "text": [
      "  Installing build dependencies ... \u001b[?25l\u001b[?25hdone\n",
      "  Getting requirements to build wheel ... \u001b[?25l\u001b[?25hdone\n",
      "  Installing backend dependencies ... \u001b[?25l\u001b[?25hdone\n",
      "    Preparing wheel metadata ... \u001b[?25l\u001b[?25hdone\n",
      "  Building wheel for heputils (PEP 517) ... \u001b[?25l\u001b[?25hdone\n"
     ],
     "name": "stdout"
    }
   ]
  },
  {
   "cell_type": "code",
   "metadata": {
    "id": "sYFk0qSqQ8NR"
   },
   "source": [
    "from servicex import ServiceXDataset\n",
    "from func_adl_servicex import ServiceXSourceXAOD\n",
    "\n",
    "import numpy as np\n",
    "import matplotlib.pyplot as plt\n",
    "import mplhep\n",
    "import heputils\n",
    "\n",
    "mplhep.set_style(\"ATLAS\")"
   ],
   "execution_count": 2,
   "outputs": []
  },
  {
   "cell_type": "markdown",
   "metadata": {
    "id": "AK5nxiRic2I1"
   },
   "source": [
    "Get keys for authentication"
   ]
  },
  {
   "cell_type": "code",
   "metadata": {
    "id": "ZwaThvh9QglF",
    "outputId": "f45a4391-4632-4736-aa77-ddd46e5f32b2",
    "colab": {
     "base_uri": "https://localhost:8080/"
    }
   },
   "source": [
    "from google.colab import drive\n",
    "\n",
    "drive.mount(\"/content/drive\")\n",
    "!cp \"/content/drive/My Drive/atlas-servicex.yaml\" ./.servicex"
   ],
   "execution_count": 3,
   "outputs": [
    {
     "output_type": "stream",
     "text": [
      "Drive already mounted at /content/drive; to attempt to forcibly remount, call drive.mount(\"/content/drive\", force_remount=True).\n"
     ],
     "name": "stdout"
    }
   ]
  },
  {
   "cell_type": "markdown",
   "metadata": {
    "id": "FLavjIt7RPcC"
   },
   "source": [
    "Perform a query"
   ]
  },
  {
   "cell_type": "code",
   "metadata": {
    "id": "rVNoEifoqaDc",
    "outputId": "82b990b0-99b7-44a1-9691-e9dc9c1aa378",
    "colab": {
     "base_uri": "https://localhost:8080/"
    }
   },
   "source": [
    "jet_moments = [\"LArQuality\", \"LArBadHVEnergyFrac\", \"HECQuality\", \"EMFrac\"]\n",
    "select_statement = (\n",
    "    \"lambda j: (\"\n",
    "    + \", \".join([f'j.getAttributeFloat(\"{x}\")' for x in jet_moments])\n",
    "    + \")\"\n",
    ")\n",
    "print(select_statement)"
   ],
   "execution_count": 4,
   "outputs": [
    {
     "output_type": "stream",
     "text": [
      "lambda j: (j.getAttributeFloat(\"LArQuality\"), j.getAttributeFloat(\"LArBadHVEnergyFrac\"), j.getAttributeFloat(\"HECQuality\"), j.getAttributeFloat(\"EMFrac\"))\n"
     ],
     "name": "stdout"
    }
   ]
  },
  {
   "cell_type": "code",
   "metadata": {
    "id": "z3NFbaNzRL-4",
    "outputId": "c3917235-9713-402e-85f9-bee533cb7cd1",
    "colab": {
     "base_uri": "https://localhost:8080/",
     "height": 235,
     "referenced_widgets": [
      "9081053b77264cfba9d2dbb9043b9526",
      "c27b5faf518c4299b24a2746482ee3c1",
      "a6a824b104834af980b76bf6f604e0aa",
      "9de08a5831ca4e6f809e65a41e2da594",
      "d220dbce43f14e3ca319456fd14cfbe0",
      "ab30158dae6d437bbcdb947549826ad0",
      "25153dda964d4a128e4526952c18afb3",
      "007b90c2ec6f45aa93bb3743f8577f0d",
      "ed08a824f5dc4b009bde99f709fb396b",
      "9914a89954d44b95964b5bd7e61864e0",
      "43cf5acc36ec4c33a0613bfa53e082e4",
      "48aa5eb4807143b9b72821b42d6d7c14",
      "8833c04216024731a255036a0045eac3",
      "ec3410e04fdd421dbf7ce96bdc25a9dc",
      "6894ecd57a7e47d8862ca2c144a52939",
      "3476ee24e7c44fd6adde5efe5c75935a"
     ]
    }
   },
   "source": [
    "did = \"mc16_13TeV:mc16_13TeV.364700.Pythia8EvtGen_A14NNPDF23LO_jetjet_JZ0WithSW.deriv.DAOD_JETM1.e7142_s3126_r9364_p4128\"\n",
    "\n",
    "dataset = ServiceXDataset(did, max_workers=200, backend_type=\"xaod\")\n",
    "\n",
    "query = (\n",
    "    ServiceXSourceXAOD(dataset)\n",
    "    .SelectMany('lambda e: e.Jets(\"AntiKt4EMTopoJets\")')\n",
    "    .Where(\"lambda j: j.pt()/1000>20 and abs(j.eta())<4.5\")\n",
    "    .Select(select_statement)\n",
    "    .AsPandasDF(tuple(jet_moments))\n",
    "    .value()\n",
    ")\n",
    "\n",
    "query.head()"
   ],
   "execution_count": 5,
   "outputs": [
    {
     "output_type": "display_data",
     "data": {
      "application/vnd.jupyter.widget-view+json": {
       "model_id": "9081053b77264cfba9d2dbb9043b9526",
       "version_minor": 0,
       "version_major": 2
      },
      "text/plain": [
       "HBox(children=(FloatProgress(value=0.0, description='mc16_13TeV:mc16_13TeV.364700.Pythia8EvtGen_A14NNPDF23LO_j…"
      ]
     },
     "metadata": {
      "tags": []
     }
    },
    {
     "output_type": "display_data",
     "data": {
      "application/vnd.jupyter.widget-view+json": {
       "model_id": "ed08a824f5dc4b009bde99f709fb396b",
       "version_minor": 0,
       "version_major": 2
      },
      "text/plain": [
       "HBox(children=(FloatProgress(value=0.0, description='        Downloaded', layout=Layout(flex='2'), max=9000000…"
      ]
     },
     "metadata": {
      "tags": []
     }
    },
    {
     "output_type": "stream",
     "text": [
      "\r"
     ],
     "name": "stdout"
    },
    {
     "output_type": "execute_result",
     "data": {
      "text/html": [
       "<div>\n",
       "<style scoped>\n",
       "    .dataframe tbody tr th:only-of-type {\n",
       "        vertical-align: middle;\n",
       "    }\n",
       "\n",
       "    .dataframe tbody tr th {\n",
       "        vertical-align: top;\n",
       "    }\n",
       "\n",
       "    .dataframe thead th {\n",
       "        text-align: right;\n",
       "    }\n",
       "</style>\n",
       "<table border=\"1\" class=\"dataframe\">\n",
       "  <thead>\n",
       "    <tr style=\"text-align: right;\">\n",
       "      <th></th>\n",
       "      <th>LArQuality</th>\n",
       "      <th>LArBadHVEnergyFrac</th>\n",
       "      <th>HECQuality</th>\n",
       "      <th>EMFrac</th>\n",
       "    </tr>\n",
       "    <tr>\n",
       "      <th>entry</th>\n",
       "      <th></th>\n",
       "      <th></th>\n",
       "      <th></th>\n",
       "      <th></th>\n",
       "    </tr>\n",
       "  </thead>\n",
       "  <tbody>\n",
       "    <tr>\n",
       "      <th>0</th>\n",
       "      <td>0.062179</td>\n",
       "      <td>0.265553</td>\n",
       "      <td>0.0</td>\n",
       "      <td>0.860897</td>\n",
       "    </tr>\n",
       "    <tr>\n",
       "      <th>1</th>\n",
       "      <td>0.028388</td>\n",
       "      <td>0.075783</td>\n",
       "      <td>0.0</td>\n",
       "      <td>0.925388</td>\n",
       "    </tr>\n",
       "    <tr>\n",
       "      <th>2</th>\n",
       "      <td>0.348398</td>\n",
       "      <td>0.000000</td>\n",
       "      <td>0.0</td>\n",
       "      <td>1.000000</td>\n",
       "    </tr>\n",
       "    <tr>\n",
       "      <th>3</th>\n",
       "      <td>0.000000</td>\n",
       "      <td>0.065137</td>\n",
       "      <td>0.0</td>\n",
       "      <td>0.753856</td>\n",
       "    </tr>\n",
       "    <tr>\n",
       "      <th>4</th>\n",
       "      <td>0.000000</td>\n",
       "      <td>0.177519</td>\n",
       "      <td>0.0</td>\n",
       "      <td>0.708219</td>\n",
       "    </tr>\n",
       "  </tbody>\n",
       "</table>\n",
       "</div>"
      ],
      "text/plain": [
       "       LArQuality  LArBadHVEnergyFrac  HECQuality    EMFrac\n",
       "entry                                                      \n",
       "0        0.062179            0.265553         0.0  0.860897\n",
       "1        0.028388            0.075783         0.0  0.925388\n",
       "2        0.348398            0.000000         0.0  1.000000\n",
       "3        0.000000            0.065137         0.0  0.753856\n",
       "4        0.000000            0.177519         0.0  0.708219"
      ]
     },
     "metadata": {
      "tags": []
     },
     "execution_count": 5
    }
   ]
  },
  {
   "cell_type": "code",
   "metadata": {
    "id": "tQzDZO43Z5qw"
   },
   "source": [
    "def quick_plot(hist, ax=None, **kwargs):\n",
    "    if ax is None:\n",
    "        ax = plt.gca()\n",
    "\n",
    "    # get kwargs\n",
    "    label = kwargs.pop(\"label\", None)\n",
    "    is_density = kwargs.pop(\"density\", True)\n",
    "    xlabel = kwargs.pop(\"xlabel\", None)\n",
    "    ylabel = kwargs.pop(\"ylabel\", None)\n",
    "    logy = kwargs.pop(\"logy\", True)\n",
    "\n",
    "    mplhep.histplot(hist, label=label, density=is_density, ax=ax)\n",
    "\n",
    "    if logy:\n",
    "        ax.semilogy()\n",
    "    ax.set_xlabel(xlabel)\n",
    "    ax.set_ylabel(ylabel)\n",
    "\n",
    "    return ax"
   ],
   "execution_count": 6,
   "outputs": []
  },
  {
   "cell_type": "markdown",
   "metadata": {
    "id": "FIv2lCh4VmXS"
   },
   "source": [
    "Make a first plot:\n",
    "\n",
    "**Avg LArQ** (LArQuality): The energy-squared weighted average of the LArQ of all cells in a jet"
   ]
  },
  {
   "cell_type": "code",
   "metadata": {
    "id": "ppmHF60USJ5k",
    "outputId": "3b56e0b6-910f-47df-9d56-35036b7a85be",
    "colab": {
     "base_uri": "https://localhost:8080/",
     "height": 459
    }
   },
   "source": [
    "bin_width = 0.05\n",
    "_range = [-0.2, 2.6]\n",
    "_bins = int((_range[1] - _range[0]) / bin_width)\n",
    "hist_LArQuality = heputils.convert.numpy_to_hist(\n",
    "    *np.histogram(query.LArQuality, bins=_bins)\n",
    ")\n",
    "\n",
    "fig, ax = plt.subplots()\n",
    "\n",
    "quick_plot(\n",
    "    hist_LArQuality,\n",
    "    xlabel=\"LArQuality\",\n",
    "    ylabel=\"Density\",\n",
    "    density=True,\n",
    "    ax=ax,\n",
    ")"
   ],
   "execution_count": 7,
   "outputs": [
    {
     "output_type": "execute_result",
     "data": {
      "text/plain": [
       "<matplotlib.axes._subplots.AxesSubplot at 0x7f87f49997f0>"
      ]
     },
     "metadata": {
      "tags": []
     },
     "execution_count": 7
    },
    {
     "output_type": "stream",
     "text": [
      "findfont: Font family ['sans-serif'] not found. Falling back to DejaVu Sans.\n",
      "findfont: Font family ['sans-serif'] not found. Falling back to DejaVu Sans.\n"
     ],
     "name": "stderr"
    },
    {
     "output_type": "display_data",
     "data": {
      "image/png": "[encoded data removed]",
      "text/plain": [
       "<Figure size 630x426.24 with 1 Axes>"
      ]
     },
     "metadata": {
      "tags": []
     }
    }
   ]
  },
  {
   "cell_type": "code",
   "metadata": {
    "id": "-t510V0upWI2",
    "outputId": "e742d7a9-c7e8-4ad2-bac0-e4adbe23eafb",
    "colab": {
     "base_uri": "https://localhost:8080/",
     "height": 442
    }
   },
   "source": [
    "bin_width = 0.05\n",
    "_range = [-0.2, 2.6]\n",
    "_bins = int((_range[1] - _range[0]) / bin_width)\n",
    "hist_LArBadHVEnergyFrac = heputils.convert.numpy_to_hist(\n",
    "    *np.histogram(query.LArBadHVEnergyFrac, bins=_bins)\n",
    ")\n",
    "\n",
    "fig, ax = plt.subplots()\n",
    "quick_plot(\n",
    "    hist_LArBadHVEnergyFrac,\n",
    "    xlabel=\"LArBadHVEnergyFrac\",\n",
    "    ylabel=\"Density\",\n",
    "    density=True,\n",
    "    ax=ax,\n",
    ")"
   ],
   "execution_count": 8,
   "outputs": [
    {
     "output_type": "execute_result",
     "data": {
      "text/plain": [
       "<matplotlib.axes._subplots.AxesSubplot at 0x7f87ed53b828>"
      ]
     },
     "metadata": {
      "tags": []
     },
     "execution_count": 8
    },
    {
     "output_type": "display_data",
     "data": {
      "image/png": "[encoded data removed]",
      "text/plain": [
       "<Figure size 630x426.24 with 1 Axes>"
      ]
     },
     "metadata": {
      "tags": []
     }
    }
   ]
  },
  {
   "cell_type": "code",
   "metadata": {
    "id": "nnC6JMXgtw-D",
    "outputId": "db8de18d-b0ba-4b73-b4f6-569e2fdf97da",
    "colab": {
     "base_uri": "https://localhost:8080/",
     "height": 442
    }
   },
   "source": [
    "hist_HECQuality = heputils.convert.numpy_to_hist(\n",
    "    *np.histogram(query.HECQuality, bins=_bins)\n",
    ")\n",
    "\n",
    "fig, ax = plt.subplots()\n",
    "quick_plot(\n",
    "    hist_HECQuality,\n",
    "    xlabel=\"HECQuality\",\n",
    "    ylabel=\"Density\",\n",
    "    density=True,\n",
    "    ax=ax,\n",
    ")"
   ],
   "execution_count": 9,
   "outputs": [
    {
     "output_type": "execute_result",
     "data": {
      "text/plain": [
       "<matplotlib.axes._subplots.AxesSubplot at 0x7f87ebea1f98>"
      ]
     },
     "metadata": {
      "tags": []
     },
     "execution_count": 9
    },
    {
     "output_type": "display_data",
     "data": {
      "image/png": "[encoded data removed]",
      "text/plain": [
       "<Figure size 630x426.24 with 1 Axes>"
      ]
     },
     "metadata": {
      "tags": []
     }
    }
   ]
  },
  {
   "cell_type": "code",
   "metadata": {
    "id": "xAO8FE4puRHj",
    "outputId": "d61dfb92-d1ad-40e4-be6c-d7c391238a65",
    "colab": {
     "base_uri": "https://localhost:8080/",
     "height": 442
    }
   },
   "source": [
    "hist_EMFrac = heputils.convert.numpy_to_hist(*np.histogram(query.EMFrac, bins=_bins))\n",
    "\n",
    "fig, ax = plt.subplots()\n",
    "quick_plot(\n",
    "    hist_EMFrac,\n",
    "    xlabel=\"EMFrac\",\n",
    "    ylabel=\"Density\",\n",
    "    density=True,\n",
    "    ax=ax,\n",
    ")"
   ],
   "execution_count": 11,
   "outputs": [
    {
     "output_type": "execute_result",
     "data": {
      "text/plain": [
       "<matplotlib.axes._subplots.AxesSubplot at 0x7f87f485d208>"
      ]
     },
     "metadata": {
      "tags": []
     },
     "execution_count": 11
    },
    {
     "output_type": "display_data",
     "data": {
      "image/png": "[encoded data removed]",
      "text/plain": [
       "<Figure size 630x426.24 with 1 Axes>"
      ]
     },
     "metadata": {
      "tags": []
     }
    }
   ]
  }
 ]
}
