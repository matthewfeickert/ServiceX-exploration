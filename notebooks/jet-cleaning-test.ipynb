{
 "nbformat": 4,
 "nbformat_minor": 0,
 "metadata": {
  "colab": {
   "name": "jet-cleaning-test.ipynb",
   "provenance": [],
   "collapsed_sections": []
  },
  "kernelspec": {
   "name": "python3",
   "display_name": "Python 3"
  }
 },
 "cells": [
  {
   "cell_type": "code",
   "metadata": {
    "id": "aRAU8cvjPk2X",
    "outputId": "bb073cb2-1c5f-4d08-86a3-85ac11820ce4",
    "colab": {
     "base_uri": "https://localhost:8080/"
    }
   },
   "source": [
    "! pip install -qq func-adl-servicex~=1.0.2\n",
    "! pip install -qq --upgrade git+https://github.com/matthewfeickert/heputils.git"
   ],
   "execution_count": 1,
   "outputs": [
    {
     "output_type": "stream",
     "text": [
      "  Installing build dependencies ... \u001b[?25l\u001b[?25hdone\n",
      "  Getting requirements to build wheel ... \u001b[?25l\u001b[?25hdone\n",
      "  Installing backend dependencies ... \u001b[?25l\u001b[?25hdone\n",
      "    Preparing wheel metadata ... \u001b[?25l\u001b[?25hdone\n",
      "  Building wheel for heputils (PEP 517) ... \u001b[?25l\u001b[?25hdone\n"
     ],
     "name": "stdout"
    }
   ]
  },
  {
   "cell_type": "code",
   "metadata": {
    "id": "sYFk0qSqQ8NR"
   },
   "source": [
    "from servicex import ServiceXDataset\n",
    "from func_adl_servicex import ServiceXSourceXAOD\n",
    "\n",
    "import numpy as np\n",
    "import matplotlib.pyplot as plt\n",
    "import mplhep\n",
    "import heputils\n",
    "\n",
    "mplhep.set_style(\"ATLAS\")"
   ],
   "execution_count": 2,
   "outputs": []
  },
  {
   "cell_type": "code",
   "metadata": {
    "id": "ZwaThvh9QglF",
    "outputId": "e3db2a3c-3063-428d-fe75-c75e1d57b9d4",
    "colab": {
     "base_uri": "https://localhost:8080/"
    }
   },
   "source": [
    "from google.colab import drive\n",
    "\n",
    "drive.mount(\"/content/drive\")\n",
    "!cp \"/content/drive/My Drive/atlas-servicex.yaml\" ./.servicex"
   ],
   "execution_count": 3,
   "outputs": [
    {
     "output_type": "stream",
     "text": [
      "Drive already mounted at /content/drive; to attempt to forcibly remount, call drive.mount(\"/content/drive\", force_remount=True).\n"
     ],
     "name": "stdout"
    }
   ]
  },
  {
   "cell_type": "markdown",
   "metadata": {
    "id": "FLavjIt7RPcC"
   },
   "source": [
    "Perform a query"
   ]
  },
  {
   "cell_type": "code",
   "metadata": {
    "id": "z3NFbaNzRL-4",
    "outputId": "5dc31f7f-9466-410b-ea4c-600e2fc32bcd",
    "colab": {
     "base_uri": "https://localhost:8080/",
     "height": 450
    }
   },
   "source": [
    "did = \"mc16_13TeV:mc16_13TeV.364700.Pythia8EvtGen_A14NNPDF23LO_jetjet_JZ0WithSW.deriv.DAOD_JETM1.e7142_s3126_r9364_p4128\"\n",
    "\n",
    "dataset = ServiceXDataset(did, max_workers=200, backend_type=\"xaod\")\n",
    "\n",
    "query = (\n",
    "    ServiceXSourceXAOD(dataset)\n",
    "    .SelectMany('lambda e: e.Jets(\"AntiKt4EMTopoJets\")')\n",
    "    .Where(\"lambda j: j.pt()/1000>20 and abs(j.eta())<4.5\")\n",
    "    .Select('lambda j: j.getAttributeFloat(\"LArQuality\")')\n",
    "    .AsPandasDF(\"JetMoment\")\n",
    "    .value()\n",
    ")\n",
    "\n",
    "query"
   ],
   "execution_count": 4,
   "outputs": [
    {
     "output_type": "execute_result",
     "data": {
      "text/html": [
       "<div>\n",
       "<style scoped>\n",
       "    .dataframe tbody tr th:only-of-type {\n",
       "        vertical-align: middle;\n",
       "    }\n",
       "\n",
       "    .dataframe tbody tr th {\n",
       "        vertical-align: top;\n",
       "    }\n",
       "\n",
       "    .dataframe thead th {\n",
       "        text-align: right;\n",
       "    }\n",
       "</style>\n",
       "<table border=\"1\" class=\"dataframe\">\n",
       "  <thead>\n",
       "    <tr style=\"text-align: right;\">\n",
       "      <th></th>\n",
       "      <th>JetMoment</th>\n",
       "    </tr>\n",
       "    <tr>\n",
       "      <th>entry</th>\n",
       "      <th></th>\n",
       "    </tr>\n",
       "  </thead>\n",
       "  <tbody>\n",
       "    <tr>\n",
       "      <th>0</th>\n",
       "      <td>0.062179</td>\n",
       "    </tr>\n",
       "    <tr>\n",
       "      <th>1</th>\n",
       "      <td>0.028388</td>\n",
       "    </tr>\n",
       "    <tr>\n",
       "      <th>2</th>\n",
       "      <td>0.348398</td>\n",
       "    </tr>\n",
       "    <tr>\n",
       "      <th>3</th>\n",
       "      <td>0.000000</td>\n",
       "    </tr>\n",
       "    <tr>\n",
       "      <th>4</th>\n",
       "      <td>0.000000</td>\n",
       "    </tr>\n",
       "    <tr>\n",
       "      <th>...</th>\n",
       "      <td>...</td>\n",
       "    </tr>\n",
       "    <tr>\n",
       "      <th>146441</th>\n",
       "      <td>0.000000</td>\n",
       "    </tr>\n",
       "    <tr>\n",
       "      <th>146442</th>\n",
       "      <td>0.000000</td>\n",
       "    </tr>\n",
       "    <tr>\n",
       "      <th>146443</th>\n",
       "      <td>0.000000</td>\n",
       "    </tr>\n",
       "    <tr>\n",
       "      <th>146444</th>\n",
       "      <td>0.908048</td>\n",
       "    </tr>\n",
       "    <tr>\n",
       "      <th>146445</th>\n",
       "      <td>0.000000</td>\n",
       "    </tr>\n",
       "  </tbody>\n",
       "</table>\n",
       "<p>33470380 rows × 1 columns</p>\n",
       "</div>"
      ],
      "text/plain": [
       "        JetMoment\n",
       "entry            \n",
       "0        0.062179\n",
       "1        0.028388\n",
       "2        0.348398\n",
       "3        0.000000\n",
       "4        0.000000\n",
       "...           ...\n",
       "146441   0.000000\n",
       "146442   0.000000\n",
       "146443   0.000000\n",
       "146444   0.908048\n",
       "146445   0.000000\n",
       "\n",
       "[33470380 rows x 1 columns]"
      ]
     },
     "metadata": {
      "tags": []
     },
     "execution_count": 4
    }
   ]
  },
  {
   "cell_type": "markdown",
   "metadata": {
    "id": "FIv2lCh4VmXS"
   },
   "source": [
    "Make a first plot"
   ]
  },
  {
   "cell_type": "code",
   "metadata": {
    "id": "ppmHF60USJ5k",
    "outputId": "7f10ff25-041c-4141-95d3-6db4e65dd418",
    "colab": {
     "base_uri": "https://localhost:8080/",
     "height": 476
    }
   },
   "source": [
    "hist_LArQuality = heputils.convert.numpy_to_hist(\n",
    "    *np.histogram(query.JetMoment, bins=50)\n",
    ")\n",
    "\n",
    "fig, ax = plt.subplots()\n",
    "mplhep.histplot(hist_LArQuality, label=\"LArQuality\", ax=ax)\n",
    "ax.semilogy()\n",
    "ax.set_xlabel(\"LArQuality\")\n",
    "ax.set_ylabel(\"Count\")\n",
    "ax.legend(loc=\"best\");"
   ],
   "execution_count": 5,
   "outputs": [
    {
     "output_type": "stream",
     "text": [
      "findfont: Font family ['sans-serif'] not found. Falling back to DejaVu Sans.\n",
      "findfont: Font family ['sans-serif'] not found. Falling back to DejaVu Sans.\n",
      "findfont: Font family ['sans-serif'] not found. Falling back to DejaVu Sans.\n"
     ],
     "name": "stderr"
    },
    {
     "output_type": "display_data",
     "data": {
      "image/png": "[encoded data removed]",
      "text/plain": [
       "<Figure size 630x426.24 with 1 Axes>"
      ]
     },
     "metadata": {
      "tags": []
     }
    }
   ]
  }
 ]
}
